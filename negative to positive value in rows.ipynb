{
 "cells": [
  {
   "cell_type": "code",
   "execution_count": 1,
   "metadata": {},
   "outputs": [],
   "source": [
    "import pandas as pd"
   ]
  },
  {
   "cell_type": "code",
   "execution_count": 5,
   "metadata": {},
   "outputs": [],
   "source": [
    "#data=pd.read_csv(r'C:\\Users\\saket\\Desktop\\DATASETS\\loan2.csv',na_values=['not availabel','n.a.'])#to convrt not avilabel value into NaN value"
   ]
  },
  {
   "cell_type": "code",
   "execution_count": 190,
   "metadata": {},
   "outputs": [],
   "source": [
    "data=pd.read_csv(r'C:\\Users\\saket\\Desktop\\DATASETS\\my_data.csv')"
   ]
  },
  {
   "cell_type": "code",
   "execution_count": 191,
   "metadata": {},
   "outputs": [
    {
     "data": {
      "text/html": [
       "<div>\n",
       "<style scoped>\n",
       "    .dataframe tbody tr th:only-of-type {\n",
       "        vertical-align: middle;\n",
       "    }\n",
       "\n",
       "    .dataframe tbody tr th {\n",
       "        vertical-align: top;\n",
       "    }\n",
       "\n",
       "    .dataframe thead th {\n",
       "        text-align: right;\n",
       "    }\n",
       "</style>\n",
       "<table border=\"1\" class=\"dataframe\">\n",
       "  <thead>\n",
       "    <tr style=\"text-align: right;\">\n",
       "      <th></th>\n",
       "      <th>ST_ROLLNO</th>\n",
       "      <th>ST_NAME</th>\n",
       "      <th>ST_STD</th>\n",
       "      <th>ST_DIV</th>\n",
       "      <th>ST_ADD</th>\n",
       "      <th>ST_FESS</th>\n",
       "      <th>ST_MARKS</th>\n",
       "    </tr>\n",
       "  </thead>\n",
       "  <tbody>\n",
       "    <tr>\n",
       "      <th>0</th>\n",
       "      <td>100</td>\n",
       "      <td>ABC</td>\n",
       "      <td>5</td>\n",
       "      <td>A</td>\n",
       "      <td>NP</td>\n",
       "      <td>15000</td>\n",
       "      <td>50</td>\n",
       "    </tr>\n",
       "    <tr>\n",
       "      <th>1</th>\n",
       "      <td>200</td>\n",
       "      <td>XYZ</td>\n",
       "      <td>-5</td>\n",
       "      <td>B</td>\n",
       "      <td>KA</td>\n",
       "      <td>1600</td>\n",
       "      <td>60</td>\n",
       "    </tr>\n",
       "    <tr>\n",
       "      <th>2</th>\n",
       "      <td>300</td>\n",
       "      <td>TYU</td>\n",
       "      <td>3</td>\n",
       "      <td>c</td>\n",
       "      <td>KH</td>\n",
       "      <td>3000</td>\n",
       "      <td>-90</td>\n",
       "    </tr>\n",
       "    <tr>\n",
       "      <th>3</th>\n",
       "      <td>400</td>\n",
       "      <td>NYU</td>\n",
       "      <td>2</td>\n",
       "      <td>D</td>\n",
       "      <td>NU</td>\n",
       "      <td>40000</td>\n",
       "      <td>-70</td>\n",
       "    </tr>\n",
       "    <tr>\n",
       "      <th>4</th>\n",
       "      <td>500</td>\n",
       "      <td>JKL</td>\n",
       "      <td>1</td>\n",
       "      <td>E</td>\n",
       "      <td>SA</td>\n",
       "      <td>-700000</td>\n",
       "      <td>-80</td>\n",
       "    </tr>\n",
       "  </tbody>\n",
       "</table>\n",
       "</div>"
      ],
      "text/plain": [
       "   ST_ROLLNO ST_NAME  ST_STD ST_DIV ST_ADD  ST_FESS  ST_MARKS\n",
       "0        100     ABC       5      A     NP    15000        50\n",
       "1        200     XYZ      -5      B     KA     1600        60\n",
       "2        300     TYU       3      c     KH     3000       -90\n",
       "3        400     NYU       2      D     NU    40000       -70\n",
       "4        500     JKL       1      E     SA  -700000       -80"
      ]
     },
     "execution_count": 191,
     "metadata": {},
     "output_type": "execute_result"
    }
   ],
   "source": [
    "data"
   ]
  },
  {
   "cell_type": "code",
   "execution_count": 102,
   "metadata": {},
   "outputs": [],
   "source": [
    "#a=-data[['ST_FESS']][data['ST_FESS']<0]"
   ]
  },
  {
   "cell_type": "code",
   "execution_count": 153,
   "metadata": {},
   "outputs": [
    {
     "data": {
      "text/html": [
       "<div>\n",
       "<style scoped>\n",
       "    .dataframe tbody tr th:only-of-type {\n",
       "        vertical-align: middle;\n",
       "    }\n",
       "\n",
       "    .dataframe tbody tr th {\n",
       "        vertical-align: top;\n",
       "    }\n",
       "\n",
       "    .dataframe thead th {\n",
       "        text-align: right;\n",
       "    }\n",
       "</style>\n",
       "<table border=\"1\" class=\"dataframe\">\n",
       "  <thead>\n",
       "    <tr style=\"text-align: right;\">\n",
       "      <th></th>\n",
       "      <th>ST_FESS</th>\n",
       "    </tr>\n",
       "  </thead>\n",
       "  <tbody>\n",
       "    <tr>\n",
       "      <th>4</th>\n",
       "      <td>700000</td>\n",
       "    </tr>\n",
       "  </tbody>\n",
       "</table>\n",
       "</div>"
      ],
      "text/plain": [
       "   ST_FESS\n",
       "4   700000"
      ]
     },
     "execution_count": 153,
     "metadata": {},
     "output_type": "execute_result"
    }
   ],
   "source": [
    "-data[['ST_FESS']][data['ST_FESS']<0]"
   ]
  },
  {
   "cell_type": "code",
   "execution_count": 112,
   "metadata": {},
   "outputs": [],
   "source": [
    "#data[data['ST_FESS']<0]=-data[['ST_FESS']][data['ST_FESS']<0]<-dataframe"
   ]
  },
  {
   "cell_type": "code",
   "execution_count": 131,
   "metadata": {},
   "outputs": [],
   "source": [
    "#data[['ST_FESS']][data['ST_FESS']<0]=-data[['ST_FESS']][data['ST_FESS']<0]<-data frame"
   ]
  },
  {
   "cell_type": "code",
   "execution_count": 207,
   "metadata": {},
   "outputs": [],
   "source": [
    "data['ST_FESS'][data['ST_FESS']<0]=-data['ST_FESS'][data['ST_FESS']<0]#<- series datastrcure"
   ]
  },
  {
   "cell_type": "code",
   "execution_count": 168,
   "metadata": {},
   "outputs": [],
   "source": [
    "#data"
   ]
  },
  {
   "cell_type": "code",
   "execution_count": 208,
   "metadata": {},
   "outputs": [
    {
     "data": {
      "text/html": [
       "<div>\n",
       "<style scoped>\n",
       "    .dataframe tbody tr th:only-of-type {\n",
       "        vertical-align: middle;\n",
       "    }\n",
       "\n",
       "    .dataframe tbody tr th {\n",
       "        vertical-align: top;\n",
       "    }\n",
       "\n",
       "    .dataframe thead th {\n",
       "        text-align: right;\n",
       "    }\n",
       "</style>\n",
       "<table border=\"1\" class=\"dataframe\">\n",
       "  <thead>\n",
       "    <tr style=\"text-align: right;\">\n",
       "      <th></th>\n",
       "      <th>ST_ROLLNO</th>\n",
       "      <th>ST_NAME</th>\n",
       "      <th>ST_STD</th>\n",
       "      <th>ST_DIV</th>\n",
       "      <th>ST_ADD</th>\n",
       "      <th>ST_FESS</th>\n",
       "      <th>ST_MARKS</th>\n",
       "    </tr>\n",
       "  </thead>\n",
       "  <tbody>\n",
       "    <tr>\n",
       "      <th>0</th>\n",
       "      <td>100</td>\n",
       "      <td>ABC</td>\n",
       "      <td>5</td>\n",
       "      <td>A</td>\n",
       "      <td>NP</td>\n",
       "      <td>15000</td>\n",
       "      <td>50</td>\n",
       "    </tr>\n",
       "    <tr>\n",
       "      <th>1</th>\n",
       "      <td>200</td>\n",
       "      <td>XYZ</td>\n",
       "      <td>-5</td>\n",
       "      <td>B</td>\n",
       "      <td>KA</td>\n",
       "      <td>1600</td>\n",
       "      <td>60</td>\n",
       "    </tr>\n",
       "    <tr>\n",
       "      <th>2</th>\n",
       "      <td>300</td>\n",
       "      <td>TYU</td>\n",
       "      <td>3</td>\n",
       "      <td>c</td>\n",
       "      <td>KH</td>\n",
       "      <td>3000</td>\n",
       "      <td>-90</td>\n",
       "    </tr>\n",
       "    <tr>\n",
       "      <th>3</th>\n",
       "      <td>400</td>\n",
       "      <td>NYU</td>\n",
       "      <td>2</td>\n",
       "      <td>D</td>\n",
       "      <td>NU</td>\n",
       "      <td>40000</td>\n",
       "      <td>-70</td>\n",
       "    </tr>\n",
       "    <tr>\n",
       "      <th>4</th>\n",
       "      <td>500</td>\n",
       "      <td>JKL</td>\n",
       "      <td>1</td>\n",
       "      <td>E</td>\n",
       "      <td>SA</td>\n",
       "      <td>700000</td>\n",
       "      <td>-80</td>\n",
       "    </tr>\n",
       "  </tbody>\n",
       "</table>\n",
       "</div>"
      ],
      "text/plain": [
       "   ST_ROLLNO ST_NAME  ST_STD ST_DIV ST_ADD  ST_FESS  ST_MARKS\n",
       "0        100     ABC       5      A     NP    15000        50\n",
       "1        200     XYZ      -5      B     KA     1600        60\n",
       "2        300     TYU       3      c     KH     3000       -90\n",
       "3        400     NYU       2      D     NU    40000       -70\n",
       "4        500     JKL       1      E     SA   700000       -80"
      ]
     },
     "execution_count": 208,
     "metadata": {},
     "output_type": "execute_result"
    }
   ],
   "source": [
    "data"
   ]
  },
  {
   "cell_type": "code",
   "execution_count": 210,
   "metadata": {},
   "outputs": [],
   "source": [
    "data['ST_STD'][data['ST_STD']<0]=-data['ST_STD'][data['ST_STD']<0]#<- series datastrcure"
   ]
  },
  {
   "cell_type": "code",
   "execution_count": 211,
   "metadata": {},
   "outputs": [
    {
     "data": {
      "text/html": [
       "<div>\n",
       "<style scoped>\n",
       "    .dataframe tbody tr th:only-of-type {\n",
       "        vertical-align: middle;\n",
       "    }\n",
       "\n",
       "    .dataframe tbody tr th {\n",
       "        vertical-align: top;\n",
       "    }\n",
       "\n",
       "    .dataframe thead th {\n",
       "        text-align: right;\n",
       "    }\n",
       "</style>\n",
       "<table border=\"1\" class=\"dataframe\">\n",
       "  <thead>\n",
       "    <tr style=\"text-align: right;\">\n",
       "      <th></th>\n",
       "      <th>ST_ROLLNO</th>\n",
       "      <th>ST_NAME</th>\n",
       "      <th>ST_STD</th>\n",
       "      <th>ST_DIV</th>\n",
       "      <th>ST_ADD</th>\n",
       "      <th>ST_FESS</th>\n",
       "      <th>ST_MARKS</th>\n",
       "    </tr>\n",
       "  </thead>\n",
       "  <tbody>\n",
       "    <tr>\n",
       "      <th>0</th>\n",
       "      <td>100</td>\n",
       "      <td>ABC</td>\n",
       "      <td>5</td>\n",
       "      <td>A</td>\n",
       "      <td>NP</td>\n",
       "      <td>15000</td>\n",
       "      <td>50</td>\n",
       "    </tr>\n",
       "    <tr>\n",
       "      <th>1</th>\n",
       "      <td>200</td>\n",
       "      <td>XYZ</td>\n",
       "      <td>5</td>\n",
       "      <td>B</td>\n",
       "      <td>KA</td>\n",
       "      <td>1600</td>\n",
       "      <td>60</td>\n",
       "    </tr>\n",
       "    <tr>\n",
       "      <th>2</th>\n",
       "      <td>300</td>\n",
       "      <td>TYU</td>\n",
       "      <td>3</td>\n",
       "      <td>c</td>\n",
       "      <td>KH</td>\n",
       "      <td>3000</td>\n",
       "      <td>-90</td>\n",
       "    </tr>\n",
       "    <tr>\n",
       "      <th>3</th>\n",
       "      <td>400</td>\n",
       "      <td>NYU</td>\n",
       "      <td>2</td>\n",
       "      <td>D</td>\n",
       "      <td>NU</td>\n",
       "      <td>40000</td>\n",
       "      <td>-70</td>\n",
       "    </tr>\n",
       "    <tr>\n",
       "      <th>4</th>\n",
       "      <td>500</td>\n",
       "      <td>JKL</td>\n",
       "      <td>1</td>\n",
       "      <td>E</td>\n",
       "      <td>SA</td>\n",
       "      <td>700000</td>\n",
       "      <td>-80</td>\n",
       "    </tr>\n",
       "  </tbody>\n",
       "</table>\n",
       "</div>"
      ],
      "text/plain": [
       "   ST_ROLLNO ST_NAME  ST_STD ST_DIV ST_ADD  ST_FESS  ST_MARKS\n",
       "0        100     ABC       5      A     NP    15000        50\n",
       "1        200     XYZ       5      B     KA     1600        60\n",
       "2        300     TYU       3      c     KH     3000       -90\n",
       "3        400     NYU       2      D     NU    40000       -70\n",
       "4        500     JKL       1      E     SA   700000       -80"
      ]
     },
     "execution_count": 211,
     "metadata": {},
     "output_type": "execute_result"
    }
   ],
   "source": [
    "data"
   ]
  },
  {
   "cell_type": "code",
   "execution_count": 213,
   "metadata": {},
   "outputs": [],
   "source": [
    "data['ST_MARKS'][data['ST_MARKS']<0]=-data['ST_MARKS'][data['ST_MARKS']<0]#<- series datastrcure"
   ]
  },
  {
   "cell_type": "code",
   "execution_count": 214,
   "metadata": {},
   "outputs": [
    {
     "data": {
      "text/html": [
       "<div>\n",
       "<style scoped>\n",
       "    .dataframe tbody tr th:only-of-type {\n",
       "        vertical-align: middle;\n",
       "    }\n",
       "\n",
       "    .dataframe tbody tr th {\n",
       "        vertical-align: top;\n",
       "    }\n",
       "\n",
       "    .dataframe thead th {\n",
       "        text-align: right;\n",
       "    }\n",
       "</style>\n",
       "<table border=\"1\" class=\"dataframe\">\n",
       "  <thead>\n",
       "    <tr style=\"text-align: right;\">\n",
       "      <th></th>\n",
       "      <th>ST_ROLLNO</th>\n",
       "      <th>ST_NAME</th>\n",
       "      <th>ST_STD</th>\n",
       "      <th>ST_DIV</th>\n",
       "      <th>ST_ADD</th>\n",
       "      <th>ST_FESS</th>\n",
       "      <th>ST_MARKS</th>\n",
       "    </tr>\n",
       "  </thead>\n",
       "  <tbody>\n",
       "    <tr>\n",
       "      <th>0</th>\n",
       "      <td>100</td>\n",
       "      <td>ABC</td>\n",
       "      <td>5</td>\n",
       "      <td>A</td>\n",
       "      <td>NP</td>\n",
       "      <td>15000</td>\n",
       "      <td>50</td>\n",
       "    </tr>\n",
       "    <tr>\n",
       "      <th>1</th>\n",
       "      <td>200</td>\n",
       "      <td>XYZ</td>\n",
       "      <td>5</td>\n",
       "      <td>B</td>\n",
       "      <td>KA</td>\n",
       "      <td>1600</td>\n",
       "      <td>60</td>\n",
       "    </tr>\n",
       "    <tr>\n",
       "      <th>2</th>\n",
       "      <td>300</td>\n",
       "      <td>TYU</td>\n",
       "      <td>3</td>\n",
       "      <td>c</td>\n",
       "      <td>KH</td>\n",
       "      <td>3000</td>\n",
       "      <td>90</td>\n",
       "    </tr>\n",
       "    <tr>\n",
       "      <th>3</th>\n",
       "      <td>400</td>\n",
       "      <td>NYU</td>\n",
       "      <td>2</td>\n",
       "      <td>D</td>\n",
       "      <td>NU</td>\n",
       "      <td>40000</td>\n",
       "      <td>70</td>\n",
       "    </tr>\n",
       "    <tr>\n",
       "      <th>4</th>\n",
       "      <td>500</td>\n",
       "      <td>JKL</td>\n",
       "      <td>1</td>\n",
       "      <td>E</td>\n",
       "      <td>SA</td>\n",
       "      <td>700000</td>\n",
       "      <td>80</td>\n",
       "    </tr>\n",
       "  </tbody>\n",
       "</table>\n",
       "</div>"
      ],
      "text/plain": [
       "   ST_ROLLNO ST_NAME  ST_STD ST_DIV ST_ADD  ST_FESS  ST_MARKS\n",
       "0        100     ABC       5      A     NP    15000        50\n",
       "1        200     XYZ       5      B     KA     1600        60\n",
       "2        300     TYU       3      c     KH     3000        90\n",
       "3        400     NYU       2      D     NU    40000        70\n",
       "4        500     JKL       1      E     SA   700000        80"
      ]
     },
     "execution_count": 214,
     "metadata": {},
     "output_type": "execute_result"
    }
   ],
   "source": [
    "data"
   ]
  },
  {
   "cell_type": "code",
   "execution_count": 215,
   "metadata": {},
   "outputs": [
    {
     "data": {
      "text/html": [
       "<div>\n",
       "<style scoped>\n",
       "    .dataframe tbody tr th:only-of-type {\n",
       "        vertical-align: middle;\n",
       "    }\n",
       "\n",
       "    .dataframe tbody tr th {\n",
       "        vertical-align: top;\n",
       "    }\n",
       "\n",
       "    .dataframe thead th {\n",
       "        text-align: right;\n",
       "    }\n",
       "</style>\n",
       "<table border=\"1\" class=\"dataframe\">\n",
       "  <thead>\n",
       "    <tr style=\"text-align: right;\">\n",
       "      <th></th>\n",
       "      <th>ST_ROLLNO</th>\n",
       "      <th>ST_NAME</th>\n",
       "      <th>ST_STD</th>\n",
       "      <th>ST_DIV</th>\n",
       "      <th>ST_ADD</th>\n",
       "      <th>ST_FESS</th>\n",
       "      <th>ST_MARKS</th>\n",
       "    </tr>\n",
       "  </thead>\n",
       "  <tbody>\n",
       "    <tr>\n",
       "      <th>0</th>\n",
       "      <td>100</td>\n",
       "      <td>ABC</td>\n",
       "      <td>5</td>\n",
       "      <td>A</td>\n",
       "      <td>NP</td>\n",
       "      <td>15000</td>\n",
       "      <td>50</td>\n",
       "    </tr>\n",
       "    <tr>\n",
       "      <th>1</th>\n",
       "      <td>200</td>\n",
       "      <td>XYZ</td>\n",
       "      <td>5</td>\n",
       "      <td>B</td>\n",
       "      <td>KA</td>\n",
       "      <td>1600</td>\n",
       "      <td>60</td>\n",
       "    </tr>\n",
       "    <tr>\n",
       "      <th>2</th>\n",
       "      <td>300</td>\n",
       "      <td>TYU</td>\n",
       "      <td>3</td>\n",
       "      <td>c</td>\n",
       "      <td>KH</td>\n",
       "      <td>3000</td>\n",
       "      <td>90</td>\n",
       "    </tr>\n",
       "    <tr>\n",
       "      <th>3</th>\n",
       "      <td>400</td>\n",
       "      <td>NYU</td>\n",
       "      <td>2</td>\n",
       "      <td>D</td>\n",
       "      <td>NU</td>\n",
       "      <td>40000</td>\n",
       "      <td>70</td>\n",
       "    </tr>\n",
       "    <tr>\n",
       "      <th>4</th>\n",
       "      <td>500</td>\n",
       "      <td>JKL</td>\n",
       "      <td>1</td>\n",
       "      <td>E</td>\n",
       "      <td>SA</td>\n",
       "      <td>700000</td>\n",
       "      <td>80</td>\n",
       "    </tr>\n",
       "  </tbody>\n",
       "</table>\n",
       "</div>"
      ],
      "text/plain": [
       "   ST_ROLLNO ST_NAME  ST_STD ST_DIV ST_ADD  ST_FESS  ST_MARKS\n",
       "0        100     ABC       5      A     NP    15000        50\n",
       "1        200     XYZ       5      B     KA     1600        60\n",
       "2        300     TYU       3      c     KH     3000        90\n",
       "3        400     NYU       2      D     NU    40000        70\n",
       "4        500     JKL       1      E     SA   700000        80"
      ]
     },
     "execution_count": 215,
     "metadata": {},
     "output_type": "execute_result"
    }
   ],
   "source": [
    "data"
   ]
  },
  {
   "cell_type": "code",
   "execution_count": null,
   "metadata": {},
   "outputs": [],
   "source": []
  },
  {
   "cell_type": "code",
   "execution_count": null,
   "metadata": {},
   "outputs": [],
   "source": []
  },
  {
   "cell_type": "code",
   "execution_count": null,
   "metadata": {},
   "outputs": [],
   "source": []
  },
  {
   "cell_type": "code",
   "execution_count": null,
   "metadata": {},
   "outputs": [],
   "source": []
  },
  {
   "cell_type": "code",
   "execution_count": null,
   "metadata": {},
   "outputs": [],
   "source": []
  },
  {
   "cell_type": "code",
   "execution_count": null,
   "metadata": {},
   "outputs": [],
   "source": []
  },
  {
   "cell_type": "code",
   "execution_count": null,
   "metadata": {},
   "outputs": [],
   "source": []
  },
  {
   "cell_type": "code",
   "execution_count": null,
   "metadata": {},
   "outputs": [],
   "source": []
  },
  {
   "cell_type": "code",
   "execution_count": null,
   "metadata": {},
   "outputs": [],
   "source": []
  },
  {
   "cell_type": "code",
   "execution_count": null,
   "metadata": {},
   "outputs": [],
   "source": []
  },
  {
   "cell_type": "code",
   "execution_count": null,
   "metadata": {},
   "outputs": [],
   "source": []
  },
  {
   "cell_type": "code",
   "execution_count": null,
   "metadata": {},
   "outputs": [],
   "source": []
  },
  {
   "cell_type": "code",
   "execution_count": 169,
   "metadata": {},
   "outputs": [
    {
     "data": {
      "text/plain": [
       "4"
      ]
     },
     "execution_count": 169,
     "metadata": {},
     "output_type": "execute_result"
    }
   ],
   "source": [
    "b=-4\n",
    "-b\n",
    "abs(b)"
   ]
  },
  {
   "cell_type": "code",
   "execution_count": null,
   "metadata": {},
   "outputs": [],
   "source": []
  },
  {
   "cell_type": "code",
   "execution_count": null,
   "metadata": {},
   "outputs": [],
   "source": []
  },
  {
   "cell_type": "code",
   "execution_count": null,
   "metadata": {},
   "outputs": [],
   "source": []
  }
 ],
 "metadata": {
  "kernelspec": {
   "display_name": "Python 3",
   "language": "python",
   "name": "python3"
  },
  "language_info": {
   "codemirror_mode": {
    "name": "ipython",
    "version": 3
   },
   "file_extension": ".py",
   "mimetype": "text/x-python",
   "name": "python",
   "nbconvert_exporter": "python",
   "pygments_lexer": "ipython3",
   "version": "3.7.6"
  }
 },
 "nbformat": 4,
 "nbformat_minor": 4
}
