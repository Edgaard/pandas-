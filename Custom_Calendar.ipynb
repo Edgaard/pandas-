{
 "cells": [
  {
   "cell_type": "code",
   "execution_count": 54,
   "metadata": {},
   "outputs": [],
   "source": [
    "import pandas as pd\n",
    "from pandas.tseries.holiday import USFederalHolidayCalendar\n",
    "from pandas.tseries.offsets import CustomBusinessDay\n",
    "from pandas.tseries.holiday import AbstractHolidayCalendar ,nearest_workday,Holiday"
   ]
  },
  {
   "cell_type": "code",
   "execution_count": 59,
   "metadata": {},
   "outputs": [],
   "source": [
    "class Indian_Calendar(AbstractHolidayCalendar):\n",
    "    \"\"\"\n",
    "    US Federal Government Holiday Calendar based on rules specified by:\n",
    "    https://www.opm.gov/policy-data-oversight/\n",
    "       snow-dismissal-procedures/federal-holidays/\n",
    "    \"\"\"\n",
    "\n",
    "    rules = [\n",
    "        Holiday(\"INDIAN INDEPENDENCE DAY\", month=8, day=15),#observance=nearest_workday<- the particlaur line give the details about the calcaulting extra some days after the goliday and before the holiday\n",
    "        Holiday(\"GANDHI JAYANTI\", month=10,day=2)\n",
    "        #Holdiay\n",
    "    ]"
   ]
  },
  {
   "cell_type": "code",
   "execution_count": 56,
   "metadata": {},
   "outputs": [],
   "source": [
    "a=CustomBusinessDay(calendar=Indian_Calendar())"
   ]
  },
  {
   "cell_type": "code",
   "execution_count": 57,
   "metadata": {},
   "outputs": [
    {
     "data": {
      "text/plain": [
       "DatetimeIndex(['2020-10-01', '2020-10-05', '2020-10-06', '2020-10-07',\n",
       "               '2020-10-08', '2020-10-09', '2020-10-12', '2020-10-13',\n",
       "               '2020-10-14', '2020-10-15', '2020-10-16', '2020-10-19',\n",
       "               '2020-10-20', '2020-10-21', '2020-10-22', '2020-10-23',\n",
       "               '2020-10-26', '2020-10-27', '2020-10-28', '2020-10-29',\n",
       "               '2020-10-30'],\n",
       "              dtype='datetime64[ns]', freq='C')"
      ]
     },
     "execution_count": 57,
     "metadata": {},
     "output_type": "execute_result"
    }
   ],
   "source": [
    "pd.date_range('2020-10-1','2020-10-30',freq=a)#<- this guy will give the reults excluding \"holidays\" and \"weekends\""
   ]
  },
  {
   "cell_type": "code",
   "execution_count": null,
   "metadata": {},
   "outputs": [],
   "source": []
  },
  {
   "cell_type": "code",
   "execution_count": null,
   "metadata": {},
   "outputs": [],
   "source": []
  },
  {
   "cell_type": "code",
   "execution_count": null,
   "metadata": {},
   "outputs": [],
   "source": []
  },
  {
   "cell_type": "code",
   "execution_count": null,
   "metadata": {},
   "outputs": [],
   "source": []
  }
 ],
 "metadata": {
  "kernelspec": {
   "display_name": "Python 3",
   "language": "python",
   "name": "python3"
  },
  "language_info": {
   "codemirror_mode": {
    "name": "ipython",
    "version": 3
   },
   "file_extension": ".py",
   "mimetype": "text/x-python",
   "name": "python",
   "nbconvert_exporter": "python",
   "pygments_lexer": "ipython3",
   "version": "3.7.6"
  }
 },
 "nbformat": 4,
 "nbformat_minor": 4
}
