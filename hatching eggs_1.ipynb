{
 "cells": [
  {
   "cell_type": "code",
   "execution_count": 10,
   "metadata": {},
   "outputs": [],
   "source": [
    "import pandas as pd"
   ]
  },
  {
   "cell_type": "code",
   "execution_count": 17,
   "metadata": {},
   "outputs": [],
   "source": [
    "#a.encode('utf-8').strip()\n",
    "data=pd.read_csv(r'C:\\Users\\saket\\Desktop\\Oman_import.csv',encoding='latin1')"
   ]
  },
  {
   "cell_type": "code",
   "execution_count": 19,
   "metadata": {},
   "outputs": [
    {
     "data": {
      "text/plain": [
       "Index(['Data_Country', 'Type', 'Year', 'Bill of Lading', 'Date of Berthing',\n",
       "       'Place of Receipt', 'POL Code', 'Port of loading', 'Country of Loading',\n",
       "       'POD Code', 'Port of discharge', 'Country of Discharge',\n",
       "       'Final delivery port', 'Commodity REP code', 'HS Code',\n",
       "       'HS Description', 'Product Description', 'Weight of cargo',\n",
       "       'Number of Packages', 'Packing Unit', 'Freight Term', 'Export Name',\n",
       "       'Shipper', 'Shipper Address', 'Consignee', 'Consignee Address', 'TEU',\n",
       "       'Connecting vessel', 'Vessel Name', 'Booking No', 'Forward Name',\n",
       "       'Notify Name', 'Notify Address', 'Booking Date',\n",
       "       'Booking Contact Phone Number', 'Booking Contact E-Mail',\n",
       "       'SI Contact Phone Number', 'SI Contact E-Mail', 'Sailing DT'],\n",
       "      dtype='object')"
      ]
     },
     "execution_count": 19,
     "metadata": {},
     "output_type": "execute_result"
    }
   ],
   "source": [
    "data.columns"
   ]
  },
  {
   "cell_type": "code",
   "execution_count": 43,
   "metadata": {},
   "outputs": [
    {
     "ename": "SyntaxError",
     "evalue": "invalid token (<ipython-input-43-e85122c8b371>, line 1)",
     "output_type": "error",
     "traceback": [
      "\u001b[1;36m  File \u001b[1;32m\"<ipython-input-43-e85122c8b371>\"\u001b[1;36m, line \u001b[1;32m1\u001b[0m\n\u001b[1;33m    data['HS Code']==040700\u001b[0m\n\u001b[1;37m                          ^\u001b[0m\n\u001b[1;31mSyntaxError\u001b[0m\u001b[1;31m:\u001b[0m invalid token\n"
     ]
    }
   ],
   "source": [
    "data['HS Code']==040700"
   ]
  },
  {
   "cell_type": "code",
   "execution_count": null,
   "metadata": {},
   "outputs": [],
   "source": []
  },
  {
   "cell_type": "code",
   "execution_count": 58,
   "metadata": {},
   "outputs": [
    {
     "name": "stdout",
     "output_type": "stream",
     "text": [
      "<class 'pandas.core.frame.DataFrame'>\n",
      "RangeIndex: 44 entries, 0 to 43\n",
      "Data columns (total 39 columns):\n",
      " #   Column                        Non-Null Count  Dtype  \n",
      "---  ------                        --------------  -----  \n",
      " 0   Data_Country                  44 non-null     object \n",
      " 1   Type                          44 non-null     object \n",
      " 2   Year                          44 non-null     int64  \n",
      " 3   Bill of Lading                44 non-null     object \n",
      " 4   Date of Berthing              44 non-null     object \n",
      " 5   Place of Receipt              44 non-null     object \n",
      " 6   POL Code                      44 non-null     object \n",
      " 7   Port of loading               44 non-null     object \n",
      " 8   Country of Loading            44 non-null     object \n",
      " 9   POD Code                      44 non-null     object \n",
      " 10  Port of discharge             44 non-null     object \n",
      " 11  Country of Discharge          44 non-null     object \n",
      " 12  Final delivery port           44 non-null     object \n",
      " 13  Commodity REP code            44 non-null     int64  \n",
      " 14  HS Code                       44 non-null     int64  \n",
      " 15  HS Description                44 non-null     object \n",
      " 16  Product Description           44 non-null     object \n",
      " 17  Weight of cargo               44 non-null     object \n",
      " 18  Number of Packages            44 non-null     object \n",
      " 19  Packing Unit                  44 non-null     object \n",
      " 20  Freight Term                  44 non-null     object \n",
      " 21  Export Name                   9 non-null      object \n",
      " 22  Shipper                       44 non-null     object \n",
      " 23  Shipper Address               44 non-null     object \n",
      " 24  Consignee                     44 non-null     object \n",
      " 25  Consignee Address             32 non-null     object \n",
      " 26  TEU                           44 non-null     float64\n",
      " 27  Connecting vessel             44 non-null     object \n",
      " 28  Vessel Name                   44 non-null     object \n",
      " 29  Booking No                    44 non-null     object \n",
      " 30  Forward Name                  28 non-null     object \n",
      " 31  Notify Name                   44 non-null     object \n",
      " 32  Notify Address                37 non-null     object \n",
      " 33  Booking Date                  44 non-null     object \n",
      " 34  Booking Contact Phone Number  31 non-null     object \n",
      " 35  Booking Contact E-Mail        35 non-null     object \n",
      " 36  SI Contact Phone Number       30 non-null     object \n",
      " 37  SI Contact E-Mail             33 non-null     object \n",
      " 38  Sailing DT                    44 non-null     object \n",
      "dtypes: float64(1), int64(3), object(35)\n",
      "memory usage: 13.5+ KB\n"
     ]
    }
   ],
   "source": [
    "data.info()"
   ]
  },
  {
   "cell_type": "code",
   "execution_count": 65,
   "metadata": {},
   "outputs": [],
   "source": [
    "new_data=pd.melt(data[data['HS Description']=='FOODSTUFFS, NOS:'])"
   ]
  },
  {
   "cell_type": "code",
   "execution_count": 68,
   "metadata": {},
   "outputs": [
    {
     "data": {
      "text/html": [
       "<div>\n",
       "<style scoped>\n",
       "    .dataframe tbody tr th:only-of-type {\n",
       "        vertical-align: middle;\n",
       "    }\n",
       "\n",
       "    .dataframe tbody tr th {\n",
       "        vertical-align: top;\n",
       "    }\n",
       "\n",
       "    .dataframe thead th {\n",
       "        text-align: right;\n",
       "    }\n",
       "</style>\n",
       "<table border=\"1\" class=\"dataframe\">\n",
       "  <thead>\n",
       "    <tr style=\"text-align: right;\">\n",
       "      <th></th>\n",
       "      <th>variable</th>\n",
       "      <th>value</th>\n",
       "    </tr>\n",
       "  </thead>\n",
       "  <tbody>\n",
       "    <tr>\n",
       "      <th>23</th>\n",
       "      <td>Shipper Address</td>\n",
       "      <td>YAICHA SUB-DISTRICT, SAMPRAN\\nDISTRICT NAKORNP...</td>\n",
       "    </tr>\n",
       "  </tbody>\n",
       "</table>\n",
       "</div>"
      ],
      "text/plain": [
       "           variable                                              value\n",
       "23  Shipper Address  YAICHA SUB-DISTRICT, SAMPRAN\\nDISTRICT NAKORNP..."
      ]
     },
     "execution_count": 68,
     "metadata": {},
     "output_type": "execute_result"
    }
   ],
   "source": [
    "new_data[new_data['variable']=='Shipper Address']"
   ]
  },
  {
   "cell_type": "code",
   "execution_count": null,
   "metadata": {},
   "outputs": [],
   "source": []
  }
 ],
 "metadata": {
  "kernelspec": {
   "display_name": "Python 3",
   "language": "python",
   "name": "python3"
  },
  "language_info": {
   "codemirror_mode": {
    "name": "ipython",
    "version": 3
   },
   "file_extension": ".py",
   "mimetype": "text/x-python",
   "name": "python",
   "nbconvert_exporter": "python",
   "pygments_lexer": "ipython3",
   "version": "3.7.6"
  }
 },
 "nbformat": 4,
 "nbformat_minor": 4
}
