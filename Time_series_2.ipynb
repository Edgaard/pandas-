{
 "cells": [
  {
   "cell_type": "code",
   "execution_count": 250,
   "metadata": {},
   "outputs": [],
   "source": [
    "import pandas as pd"
   ]
  },
  {
   "cell_type": "code",
   "execution_count": 251,
   "metadata": {},
   "outputs": [],
   "source": [
    "data=pd.read_csv(r'C:\\Users\\saket\\Desktop\\DATASETS\\AAAU_20200101_20200622.csv')#importing apple data sets with read_csv() method\n",
    "data.set_index(pd.to_datetime(data['Date']),inplace=True)#converting the strings date columns into actual index and \n",
    "new_data=data"
   ]
  },
  {
   "cell_type": "markdown",
   "metadata": {},
   "source": [
    "# Two types of date time objects in python\n",
    "1)Navie(no time zone awareness)\n",
    "2)Time Zone aware datetimne"
   ]
  },
  {
   "cell_type": "code",
   "execution_count": 252,
   "metadata": {},
   "outputs": [],
   "source": [
    "#pd.DataFrame(pd.to_datetime(data['Date'])).set_index('Date').tz_localize(tz='Asia/Kolkata')"
   ]
  },
  {
   "cell_type": "code",
   "execution_count": 253,
   "metadata": {},
   "outputs": [
    {
     "data": {
      "text/plain": [
       "Timestamp('2020-01-01 00:00:00+0530', tz='Asia/Kolkata')"
      ]
     },
     "execution_count": 253,
     "metadata": {},
     "output_type": "execute_result"
    }
   ],
   "source": [
    "data=data.tz_localize(tz='Asia/Kolkata')#the date and time is now converted into Asia kolkata\n",
    "data.index[0]#-> for checking \n",
    "#---------------ALternative way:--------------------------#\n",
    "#data.index=data.index.tz_localize(tz='Asia/Kolkata')# for "
   ]
  },
  {
   "cell_type": "code",
   "execution_count": 152,
   "metadata": {},
   "outputs": [
    {
     "data": {
      "text/plain": [
       "Timestamp('2019-12-31 22:30:00+0400', tz='Asia/Dubai')"
      ]
     },
     "execution_count": 152,
     "metadata": {},
     "output_type": "execute_result"
    }
   ],
   "source": [
    "#----------------------coverting ASia kolakat time zone to dubai time zone\":-----------------------------#\n",
    "data.index=data.index.tz_convert(tz='Asia/Dubai')\n",
    "data.index[0]# for checking "
   ]
  },
  {
   "cell_type": "code",
   "execution_count": 198,
   "metadata": {},
   "outputs": [],
   "source": [
    "#from pytz import all_timezones# to import all world time zone\n",
    "all_timezones"
   ]
  },
  {
   "cell_type": "code",
   "execution_count": null,
   "metadata": {},
   "outputs": [],
   "source": [
    "#-------------------------------------Differnt Time Zones in data range:----------------------------------------------------#\n",
    "\n",
    "#------------one Way(1)----------------#\n",
    "date_range_1=pd.DataFrame(pd.date_range('2020-01-1','2020-01-31'))\n",
    "date_range_1.set_index(date_range[0],inplace=True)\n",
    "date_range_1.tz_localize(tz='Asia/Kolkata')\n",
    "\n",
    "#---------Second way(2)----------------#\n",
    "date_range_2=pd.date_range('2020-1-1','2020-1-31',periods=10)#->it gives naive date time index\n",
    "date_range_2.tz_localize(tz='America/New_York')#->converting into America/newyork time index\n",
    "\n",
    "#-----------------Third way(3)-------------------------#\n",
    "date_range_3=pd.date_range('2020-01-1','2020-01-31',periods=10,tz='Asia/kolkata')#->directly converting naive time into Asia/kolkata timezone"
   ]
  },
  {
   "cell_type": "code",
   "execution_count": null,
   "metadata": {},
   "outputs": [],
   "source": []
  },
  {
   "cell_type": "code",
   "execution_count": 321,
   "metadata": {},
   "outputs": [
    {
     "data": {
      "text/plain": [
       "2020-01-01 03:30:00+00:00   NaN\n",
       "2020-01-01 03:55:00+00:00   NaN\n",
       "2020-01-01 04:20:00+00:00   NaN\n",
       "2020-01-01 04:45:00+00:00   NaN\n",
       "2020-01-01 05:00:00+00:00   NaN\n",
       "2020-01-01 05:10:00+00:00   NaN\n",
       "2020-01-01 05:25:00+00:00   NaN\n",
       "2020-01-01 05:50:00+00:00   NaN\n",
       "2020-01-01 06:15:00+00:00   NaN\n",
       "2020-01-01 06:40:00+00:00   NaN\n",
       "dtype: float64"
      ]
     },
     "execution_count": 321,
     "metadata": {},
     "output_type": "execute_result"
    }
   ],
   "source": [
    "#-----------------------------------Adding 2 localize date time:------------------------#\n",
    "rng=pd.date_range(start='2020-01-1 9:00:00',periods=5,freq='25min')\n",
    "date_range=pd.Series(range(len(rng)),index=rng)\n",
    "d=date_range.tz_localize(tz='Asia/dubai')\n",
    "m=date_range.tz_localize(tz='Asia/kolkata')\n",
    "d+m"
   ]
  },
  {
   "cell_type": "code",
   "execution_count": null,
   "metadata": {},
   "outputs": [],
   "source": [
    "\n"
   ]
  },
  {
   "cell_type": "code",
   "execution_count": null,
   "metadata": {},
   "outputs": [],
   "source": []
  },
  {
   "cell_type": "code",
   "execution_count": null,
   "metadata": {},
   "outputs": [],
   "source": []
  },
  {
   "cell_type": "code",
   "execution_count": null,
   "metadata": {},
   "outputs": [],
   "source": []
  },
  {
   "cell_type": "code",
   "execution_count": null,
   "metadata": {},
   "outputs": [],
   "source": []
  },
  {
   "cell_type": "code",
   "execution_count": null,
   "metadata": {},
   "outputs": [],
   "source": []
  },
  {
   "cell_type": "code",
   "execution_count": null,
   "metadata": {},
   "outputs": [],
   "source": []
  },
  {
   "cell_type": "code",
   "execution_count": null,
   "metadata": {},
   "outputs": [],
   "source": []
  },
  {
   "cell_type": "code",
   "execution_count": null,
   "metadata": {},
   "outputs": [],
   "source": []
  },
  {
   "cell_type": "code",
   "execution_count": null,
   "metadata": {},
   "outputs": [],
   "source": []
  },
  {
   "cell_type": "code",
   "execution_count": null,
   "metadata": {},
   "outputs": [],
   "source": []
  },
  {
   "cell_type": "code",
   "execution_count": null,
   "metadata": {},
   "outputs": [],
   "source": []
  },
  {
   "cell_type": "code",
   "execution_count": null,
   "metadata": {},
   "outputs": [],
   "source": []
  },
  {
   "cell_type": "code",
   "execution_count": null,
   "metadata": {},
   "outputs": [],
   "source": []
  },
  {
   "cell_type": "code",
   "execution_count": null,
   "metadata": {},
   "outputs": [],
   "source": []
  }
 ],
 "metadata": {
  "kernelspec": {
   "display_name": "Python 3",
   "language": "python",
   "name": "python3"
  },
  "language_info": {
   "codemirror_mode": {
    "name": "ipython",
    "version": 3
   },
   "file_extension": ".py",
   "mimetype": "text/x-python",
   "name": "python",
   "nbconvert_exporter": "python",
   "pygments_lexer": "ipython3",
   "version": "3.7.6"
  }
 },
 "nbformat": 4,
 "nbformat_minor": 4
}
