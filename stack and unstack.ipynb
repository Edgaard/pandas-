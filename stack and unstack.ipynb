{
 "cells": [
  {
   "cell_type": "code",
   "execution_count": 1,
   "metadata": {},
   "outputs": [],
   "source": [
    "import pandas as pd"
   ]
  },
  {
   "cell_type": "code",
   "execution_count": 83,
   "metadata": {},
   "outputs": [],
   "source": [
    "#data=pd.read_csv(r'C:\\Users\\saket\\Desktop\\DATASETS\\us_university.csv',header=[0,1,2])\n",
    "data=pd.read_csv(r'C:\\Users\\saket\\Desktop\\DATASETS\\us_university.csv',header=[0,1,2])"
   ]
  },
  {
   "cell_type": "code",
   "execution_count": 80,
   "metadata": {},
   "outputs": [],
   "source": [
    "new_data=data[['SCHOOL','STATE','CITY','NOC','PROGRAM']]"
   ]
  },
  {
   "cell_type": "code",
   "execution_count": 52,
   "metadata": {},
   "outputs": [],
   "source": [
    "data_2=pd.read_csv(r'C:\\Users\\saket\\Desktop\\DATASETS\\weather_data.csv')"
   ]
  },
  {
   "cell_type": "code",
   "execution_count": 56,
   "metadata": {},
   "outputs": [],
   "source": [
    "data_2=data_2.dropna()"
   ]
  },
  {
   "cell_type": "code",
   "execution_count": 64,
   "metadata": {},
   "outputs": [],
   "source": [
    "a=[]\n",
    "for i in range(0,len(data_2.index)):\n",
    "    a.append(i)\n",
    "data_2.index=a"
   ]
  },
  {
   "cell_type": "code",
   "execution_count": 90,
   "metadata": {},
   "outputs": [],
   "source": [
    "#stack()-> the stack fucntion does convtrt all the rows to columns by providing level\n",
    "stack_data=pd.DataFrame(data_2.stack())"
   ]
  },
  {
   "cell_type": "code",
   "execution_count": 93,
   "metadata": {},
   "outputs": [
    {
     "data": {
      "text/html": [
       "<div>\n",
       "<style scoped>\n",
       "    .dataframe tbody tr th:only-of-type {\n",
       "        vertical-align: middle;\n",
       "    }\n",
       "\n",
       "    .dataframe tbody tr th {\n",
       "        vertical-align: top;\n",
       "    }\n",
       "\n",
       "    .dataframe thead tr th {\n",
       "        text-align: left;\n",
       "    }\n",
       "</style>\n",
       "<table border=\"1\" class=\"dataframe\">\n",
       "  <thead>\n",
       "    <tr>\n",
       "      <th></th>\n",
       "      <th colspan=\"5\" halign=\"left\">0</th>\n",
       "    </tr>\n",
       "    <tr>\n",
       "      <th></th>\n",
       "      <th>day</th>\n",
       "      <th>event</th>\n",
       "      <th>temperature</th>\n",
       "      <th>windspeed</th>\n",
       "      <th>city</th>\n",
       "    </tr>\n",
       "  </thead>\n",
       "  <tbody>\n",
       "    <tr>\n",
       "      <th>0</th>\n",
       "      <td>1/3/2017</td>\n",
       "      <td>Cloudy</td>\n",
       "      <td>66</td>\n",
       "      <td>3</td>\n",
       "      <td>hyderabad</td>\n",
       "    </tr>\n",
       "    <tr>\n",
       "      <th>1</th>\n",
       "      <td>1/7/2017</td>\n",
       "      <td>Rain</td>\n",
       "      <td>55</td>\n",
       "      <td>7</td>\n",
       "      <td>Mumbai</td>\n",
       "    </tr>\n",
       "    <tr>\n",
       "      <th>2</th>\n",
       "      <td>1/8/2017</td>\n",
       "      <td>Mist</td>\n",
       "      <td>57</td>\n",
       "      <td>8</td>\n",
       "      <td>Banglore</td>\n",
       "    </tr>\n",
       "    <tr>\n",
       "      <th>3</th>\n",
       "      <td>1/9/2017</td>\n",
       "      <td>Cloudy</td>\n",
       "      <td>58</td>\n",
       "      <td>9</td>\n",
       "      <td>hyderabad</td>\n",
       "    </tr>\n",
       "    <tr>\n",
       "      <th>4</th>\n",
       "      <td>1/12/2017</td>\n",
       "      <td>cold</td>\n",
       "      <td>62</td>\n",
       "      <td>12</td>\n",
       "      <td>chennai</td>\n",
       "    </tr>\n",
       "    <tr>\n",
       "      <th>5</th>\n",
       "      <td>1/19/2017</td>\n",
       "      <td>Mist</td>\n",
       "      <td>65</td>\n",
       "      <td>14</td>\n",
       "      <td>Banglore</td>\n",
       "    </tr>\n",
       "    <tr>\n",
       "      <th>6</th>\n",
       "      <td>1/16/2017</td>\n",
       "      <td>sunny</td>\n",
       "      <td>67</td>\n",
       "      <td>16</td>\n",
       "      <td>kochin</td>\n",
       "    </tr>\n",
       "    <tr>\n",
       "      <th>7</th>\n",
       "      <td>1/17/2017</td>\n",
       "      <td>Snow</td>\n",
       "      <td>69</td>\n",
       "      <td>17</td>\n",
       "      <td>vizag</td>\n",
       "    </tr>\n",
       "    <tr>\n",
       "      <th>8</th>\n",
       "      <td>1/20/2017</td>\n",
       "      <td>Mist</td>\n",
       "      <td>73</td>\n",
       "      <td>20</td>\n",
       "      <td>Banglore</td>\n",
       "    </tr>\n",
       "  </tbody>\n",
       "</table>\n",
       "</div>"
      ],
      "text/plain": [
       "           0                                         \n",
       "         day   event temperature windspeed       city\n",
       "0   1/3/2017  Cloudy          66         3  hyderabad\n",
       "1   1/7/2017    Rain          55         7     Mumbai\n",
       "2   1/8/2017    Mist          57         8   Banglore\n",
       "3   1/9/2017  Cloudy          58         9  hyderabad\n",
       "4  1/12/2017    cold          62        12    chennai\n",
       "5  1/19/2017    Mist          65        14   Banglore\n",
       "6  1/16/2017   sunny          67        16     kochin\n",
       "7  1/17/2017    Snow          69        17      vizag\n",
       "8  1/20/2017    Mist          73        20   Banglore"
      ]
     },
     "execution_count": 93,
     "metadata": {},
     "output_type": "execute_result"
    }
   ],
   "source": [
    "#unstack()->the particualr function rebacks to the orgignal table\n",
    "stack_data.unstack()"
   ]
  },
  {
   "cell_type": "code",
   "execution_count": null,
   "metadata": {},
   "outputs": [],
   "source": []
  }
 ],
 "metadata": {
  "kernelspec": {
   "display_name": "Python 3",
   "language": "python",
   "name": "python3"
  },
  "language_info": {
   "codemirror_mode": {
    "name": "ipython",
    "version": 3
   },
   "file_extension": ".py",
   "mimetype": "text/x-python",
   "name": "python",
   "nbconvert_exporter": "python",
   "pygments_lexer": "ipython3",
   "version": "3.7.6"
  }
 },
 "nbformat": 4,
 "nbformat_minor": 4
}
